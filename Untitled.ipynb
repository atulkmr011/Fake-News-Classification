{
 "cells": [
  {
   "cell_type": "code",
   "execution_count": 32,
   "metadata": {},
   "outputs": [],
   "source": [
    "import numpy as np\n",
    "import pandas as pd"
   ]
  },
  {
   "cell_type": "code",
   "execution_count": 33,
   "metadata": {},
   "outputs": [],
   "source": [
    "df = pd.read_csv('kaggle_fake_train.csv')"
   ]
  },
  {
   "cell_type": "code",
   "execution_count": 34,
   "metadata": {},
   "outputs": [
    {
     "data": {
      "text/plain": [
       "(20800, 5)"
      ]
     },
     "execution_count": 34,
     "metadata": {},
     "output_type": "execute_result"
    }
   ],
   "source": [
    "df.shape"
   ]
  },
  {
   "cell_type": "code",
   "execution_count": 35,
   "metadata": {},
   "outputs": [
    {
     "data": {
      "text/plain": [
       "Index(['id', 'title', 'author', 'text', 'label'], dtype='object')"
      ]
     },
     "execution_count": 35,
     "metadata": {},
     "output_type": "execute_result"
    }
   ],
   "source": [
    "df.columns"
   ]
  },
  {
   "cell_type": "code",
   "execution_count": 36,
   "metadata": {},
   "outputs": [
    {
     "data": {
      "text/html": [
       "<div>\n",
       "<style scoped>\n",
       "    .dataframe tbody tr th:only-of-type {\n",
       "        vertical-align: middle;\n",
       "    }\n",
       "\n",
       "    .dataframe tbody tr th {\n",
       "        vertical-align: top;\n",
       "    }\n",
       "\n",
       "    .dataframe thead th {\n",
       "        text-align: right;\n",
       "    }\n",
       "</style>\n",
       "<table border=\"1\" class=\"dataframe\">\n",
       "  <thead>\n",
       "    <tr style=\"text-align: right;\">\n",
       "      <th></th>\n",
       "      <th>id</th>\n",
       "      <th>title</th>\n",
       "      <th>author</th>\n",
       "      <th>text</th>\n",
       "      <th>label</th>\n",
       "    </tr>\n",
       "  </thead>\n",
       "  <tbody>\n",
       "    <tr>\n",
       "      <th>0</th>\n",
       "      <td>0</td>\n",
       "      <td>House Dem Aide: We Didn’t Even See Comey’s Let...</td>\n",
       "      <td>Darrell Lucus</td>\n",
       "      <td>House Dem Aide: We Didn’t Even See Comey’s Let...</td>\n",
       "      <td>1</td>\n",
       "    </tr>\n",
       "    <tr>\n",
       "      <th>1</th>\n",
       "      <td>1</td>\n",
       "      <td>FLYNN: Hillary Clinton, Big Woman on Campus - ...</td>\n",
       "      <td>Daniel J. Flynn</td>\n",
       "      <td>Ever get the feeling your life circles the rou...</td>\n",
       "      <td>0</td>\n",
       "    </tr>\n",
       "    <tr>\n",
       "      <th>2</th>\n",
       "      <td>2</td>\n",
       "      <td>Why the Truth Might Get You Fired</td>\n",
       "      <td>Consortiumnews.com</td>\n",
       "      <td>Why the Truth Might Get You Fired October 29, ...</td>\n",
       "      <td>1</td>\n",
       "    </tr>\n",
       "    <tr>\n",
       "      <th>3</th>\n",
       "      <td>3</td>\n",
       "      <td>15 Civilians Killed In Single US Airstrike Hav...</td>\n",
       "      <td>Jessica Purkiss</td>\n",
       "      <td>Videos 15 Civilians Killed In Single US Airstr...</td>\n",
       "      <td>1</td>\n",
       "    </tr>\n",
       "    <tr>\n",
       "      <th>4</th>\n",
       "      <td>4</td>\n",
       "      <td>Iranian woman jailed for fictional unpublished...</td>\n",
       "      <td>Howard Portnoy</td>\n",
       "      <td>Print \\nAn Iranian woman has been sentenced to...</td>\n",
       "      <td>1</td>\n",
       "    </tr>\n",
       "  </tbody>\n",
       "</table>\n",
       "</div>"
      ],
      "text/plain": [
       "   id                                              title              author  \\\n",
       "0   0  House Dem Aide: We Didn’t Even See Comey’s Let...       Darrell Lucus   \n",
       "1   1  FLYNN: Hillary Clinton, Big Woman on Campus - ...     Daniel J. Flynn   \n",
       "2   2                  Why the Truth Might Get You Fired  Consortiumnews.com   \n",
       "3   3  15 Civilians Killed In Single US Airstrike Hav...     Jessica Purkiss   \n",
       "4   4  Iranian woman jailed for fictional unpublished...      Howard Portnoy   \n",
       "\n",
       "                                                text  label  \n",
       "0  House Dem Aide: We Didn’t Even See Comey’s Let...      1  \n",
       "1  Ever get the feeling your life circles the rou...      0  \n",
       "2  Why the Truth Might Get You Fired October 29, ...      1  \n",
       "3  Videos 15 Civilians Killed In Single US Airstr...      1  \n",
       "4  Print \\nAn Iranian woman has been sentenced to...      1  "
      ]
     },
     "execution_count": 36,
     "metadata": {},
     "output_type": "execute_result"
    }
   ],
   "source": [
    "df.head()"
   ]
  },
  {
   "cell_type": "code",
   "execution_count": 37,
   "metadata": {},
   "outputs": [],
   "source": [
    "df.drop('id', axis=1, inplace=True)"
   ]
  },
  {
   "cell_type": "code",
   "execution_count": 38,
   "metadata": {},
   "outputs": [
    {
     "data": {
      "text/plain": [
       "title      True\n",
       "author     True\n",
       "text       True\n",
       "label     False\n",
       "dtype: bool"
      ]
     },
     "execution_count": 38,
     "metadata": {},
     "output_type": "execute_result"
    }
   ],
   "source": [
    "df.isna().any()"
   ]
  },
  {
   "cell_type": "code",
   "execution_count": 39,
   "metadata": {},
   "outputs": [
    {
     "name": "stdout",
     "output_type": "stream",
     "text": [
      "(18285, 4)\n"
     ]
    }
   ],
   "source": [
    "df.dropna(inplace=True)\n",
    "print(df.shape)"
   ]
  },
  {
   "cell_type": "code",
   "execution_count": 40,
   "metadata": {},
   "outputs": [
    {
     "data": {
      "text/plain": [
       "title     False\n",
       "author    False\n",
       "text      False\n",
       "label     False\n",
       "dtype: bool"
      ]
     },
     "execution_count": 40,
     "metadata": {},
     "output_type": "execute_result"
    }
   ],
   "source": [
    "df.isna().any()"
   ]
  },
  {
   "cell_type": "code",
   "execution_count": 41,
   "metadata": {},
   "outputs": [
    {
     "data": {
      "text/plain": [
       "(18285, 4)"
      ]
     },
     "execution_count": 41,
     "metadata": {},
     "output_type": "execute_result"
    }
   ],
   "source": [
    "df.shape"
   ]
  },
  {
   "cell_type": "code",
   "execution_count": 42,
   "metadata": {},
   "outputs": [],
   "source": [
    "news = df.copy()"
   ]
  },
  {
   "cell_type": "code",
   "execution_count": 43,
   "metadata": {},
   "outputs": [],
   "source": [
    "news.reset_index(inplace=True)"
   ]
  },
  {
   "cell_type": "code",
   "execution_count": 44,
   "metadata": {},
   "outputs": [
    {
     "name": "stderr",
     "output_type": "stream",
     "text": [
      "[nltk_data] Downloading package stopwords to\n",
      "[nltk_data]     C:\\Users\\Atul\\AppData\\Roaming\\nltk_data...\n",
      "[nltk_data]   Package stopwords is already up-to-date!\n"
     ]
    }
   ],
   "source": [
    "import nltk\n",
    "import re\n",
    "nltk.download('stopwords')\n",
    "from nltk.corpus import stopwords\n",
    "from nltk.stem import PorterStemmer\n",
    "from nltk.stem import WordNetLemmatizer"
   ]
  },
  {
   "cell_type": "code",
   "execution_count": 45,
   "metadata": {},
   "outputs": [],
   "source": [
    "# Cleaning the news\n",
    "corpus = []\n",
    "lm = WordNetLemmatizer()\n",
    "\n",
    "for i in range(0,news.shape[0]):\n",
    "\n",
    "  # Cleaning special character from the news-title\n",
    "  title = re.sub(pattern='[^a-zA-Z]', repl=' ', string=news.title[i])\n",
    "\n",
    "  # Converting the entire news-title to lower case\n",
    "  title = title.lower()\n",
    "\n",
    "  # Tokenizing the news-title by words\n",
    "  words = title.split()\n",
    "\n",
    "  # Removing the stopwords\n",
    "  words = [word for word in words if word not in set(stopwords.words('english'))]\n",
    "\n",
    "  # Lemmetising the words\n",
    "  words = [lm.lemmatize(word) for word in words]\n",
    "\n",
    "  # Joining the stemmed words\n",
    "  title = ' '.join(words)\n",
    "\n",
    "  # Building a corpus of news-title\n",
    "  corpus.append(title)"
   ]
  },
  {
   "cell_type": "code",
   "execution_count": 86,
   "metadata": {},
   "outputs": [
    {
     "data": {
      "text/plain": [
       "['house dem aide even see comey letter jason chaffetz tweeted',\n",
       " 'flynn hillary clinton big woman campus breitbart',\n",
       " 'truth might get fired',\n",
       " 'civilian killed single u airstrike identified',\n",
       " 'iranian woman jailed fictional unpublished story woman stoned death adultery',\n",
       " 'jackie mason hollywood would love trump bombed north korea lack trans bathroom exclusive video breitbart',\n",
       " 'beno hamon win french socialist party presidential nomination new york time',\n",
       " 'back channel plan ukraine russia courtesy trump associate new york time',\n",
       " 'obama organizing action partner soros linked indivisible disrupt trump agenda',\n",
       " 'bbc comedy sketch real housewife isi cause outrage',\n",
       " 'russian researcher discover secret nazi military base treasure hunter arctic photo',\n",
       " 'u official see link trump russia',\n",
       " 'yes paid government troll social medium blog forum website',\n",
       " 'major league soccer argentine find home success new york time',\n",
       " 'well fargo chief abruptly step new york time',\n",
       " 'anonymous donor pay million release everyone arrested dakota access pipeline',\n",
       " 'fbi close hillary',\n",
       " 'chuck todd buzzfeed donald trump political favor breitbart',\n",
       " 'monica lewinsky clinton sex scandal set american crime story',\n",
       " 'rob reiner trump mentally unstable breitbart',\n",
       " 'abortion pill order rise latin american nation zika alert new york time',\n",
       " 'nuke un historic treaty ban nuclear weapon',\n",
       " 'exclusive islamic state supporter vow shake west following manchester terrorist massacre breitbart',\n",
       " 'humiliated hillary try hide camera caught min rally',\n",
       " 'andrea tantaros fox news claim retaliation sex harassment complaint new york time',\n",
       " 'hillary clinton became hawk new york time',\n",
       " 'chuck todd buzzfeed eic published fake news breitbart',\n",
       " 'boris johnson brexit leader fumble new york time',\n",
       " 'texas oil field rebound price lull job left behind new york time',\n",
       " 'bayer deal monsanto follows agribusiness trend raising worry farmer new york time',\n",
       " 'russia move ban jehovah witness extremist new york time',\n",
       " 'still danger zone january th',\n",
       " 'open thread u election',\n",
       " 'democrat gutierrez blame chicago gun violence nra breitbart',\n",
       " 'avoiding peanut avoid allergy bad strategy new york time',\n",
       " 'mri show detailed image week unborn baby breitbart',\n",
       " 'best kind milk dairy',\n",
       " 'ryan lochte dropped speedo usa retailer new york time',\n",
       " 'conservative urge session clean obama civil right division breitbart',\n",
       " 'internal inquiry sealed fate roger ailes fox new york time',\n",
       " 'press tv debate duff lebanon hezbollah aoun presidency video',\n",
       " 'samsung combustible galaxy note unveils new smartphone new york time',\n",
       " 'poland vow referendum migrant quota amidst eu pressure public voice heard breitbart',\n",
       " 'sparking inner revolution',\n",
       " 'study half car crash involve driver distracted cell phone breitbart',\n",
       " 'trump election spark individual collective healing',\n",
       " 'ep fade black jimmy church w laura eisenhower restoring balance video',\n",
       " 'cognition true islam book review',\n",
       " 'donald trump win election biggest miracle u political history',\n",
       " 'mindful eating way fight bingeing new york time',\n",
       " 'major potential impact corporate tax overhaul new york time',\n",
       " 'wonder glp like day election',\n",
       " 'maker world smallest machine awarded nobel prize chemistry new york time',\n",
       " 'massive anti trump protest union square nyc live stream',\n",
       " 'review lion brings tear lost boy wiped dry google new york time',\n",
       " 'u general islamic state chemical attack impact u force',\n",
       " 'jury find oregon standoff defendant guilty federal conspiracy gun charge',\n",
       " 'clinton campaign stunned fbi reportedly reopens probe hillary clinton email',\n",
       " 'penny speak anti abortion rally new york time',\n",
       " 'bernie sander say medium trump gutless political coward',\n",
       " 'make briquette daily waste',\n",
       " 'treason nyt vow rededication reporting',\n",
       " 'dress like woman mean new york time',\n",
       " 'ella brennan still feed lead new orleans new york time',\n",
       " 'pressing asia agenda obama tread lightly human right new york time',\n",
       " 'democrat percent chance retake senate new york time',\n",
       " 'judge spank transgender obsessed obama lie redflag news',\n",
       " 'u diplomat urge strike assad syria new york time',\n",
       " 'franken call independent investigation trump putin crush breitbart',\n",
       " 'louisiana simone bile u presidential race tuesday evening briefing new york time',\n",
       " 'turkey threatens open migrant land passage europe row dutch',\n",
       " 'huma weiner dog hillary',\n",
       " 'colin kaepernick start black panther inspired youth camp wow',\n",
       " 'trump immigration policy explained new york time',\n",
       " 'mary tyler moore mourned dick van dyke star new york time',\n",
       " 'poison',\n",
       " 'trump fan rally across nation support president new york time',\n",
       " 'fox biz reporter help bash clinton rally covering trump packed event day',\n",
       " 'fiction podcasts worth listen new york time',\n",
       " 'mike birbiglia tip making small hollywood anywhere new york time',\n",
       " 'investment strategist forecast collapse timeline last gasp economic cycle come',\n",
       " 'venezuela muzzle legislature moving closer one man rule new york time',\n",
       " 'whether john mccain mitt romney donald trump democrat always run war woman tactic destroy republican candidate',\n",
       " 'breitbart news daily trump boom breitbart',\n",
       " 'white house confirms gitmo transfer obama leaf office',\n",
       " 'poll voter heard democratic election candidate breitbart',\n",
       " 'migrant confront judgment day old deportation order new york time',\n",
       " 'n u yale sued retirement plan fee new york time',\n",
       " 'technocracy real reason un want control internet',\n",
       " 'american driver regain appetite gas guzzler new york time',\n",
       " 'hillary clinton build million war chest doubling donald trump new york time',\n",
       " 'trump catch sick reporter snuck interview priceless response',\n",
       " 'senator contacted russian government week',\n",
       " 'image perfectly illustrate struggle dakota access pipeline',\n",
       " 'washington state take refugee muslim rest country take refugee muslim breitbart',\n",
       " 'ncaa big keep watchful eye texas bathroom bill breitbart',\n",
       " 'massive espn financial subscriber loss drag disney first quarter sale breitbart',\n",
       " 'megyn kelly contract set expire next year primed big show new york time',\n",
       " 'teacher suspended allowing student hit trump pinata cinco de mayo',\n",
       " 'breaking trump expressed concern anthony weiner illegal access classified info month ago truthfeed']"
      ]
     },
     "execution_count": 86,
     "metadata": {},
     "output_type": "execute_result"
    }
   ],
   "source": [
    "corpus[0:100]"
   ]
  },
  {
   "cell_type": "code",
   "execution_count": 47,
   "metadata": {},
   "outputs": [],
   "source": [
    "from sklearn.feature_extraction.text import CountVectorizer\n",
    "cv = CountVectorizer(min_df=3, max_df = 0.75, max_features=None, ngram_range=(1,3))\n",
    "X = cv.fit_transform(corpus).toarray()\n"
   ]
  },
  {
   "cell_type": "code",
   "execution_count": 48,
   "metadata": {},
   "outputs": [
    {
     "data": {
      "text/plain": [
       "(18285, 13351)"
      ]
     },
     "execution_count": 48,
     "metadata": {},
     "output_type": "execute_result"
    }
   ],
   "source": [
    "X.shape"
   ]
  },
  {
   "cell_type": "code",
   "execution_count": 49,
   "metadata": {},
   "outputs": [],
   "source": [
    "y = news['label']"
   ]
  },
  {
   "cell_type": "code",
   "execution_count": 50,
   "metadata": {},
   "outputs": [],
   "source": [
    "from sklearn.model_selection import train_test_split\n",
    "X_train, X_test, y_train, y_test = train_test_split(X, y, test_size=0.20, random_state=0)"
   ]
  },
  {
   "cell_type": "code",
   "execution_count": 51,
   "metadata": {},
   "outputs": [
    {
     "data": {
      "text/plain": [
       "LogisticRegression(random_state=0)"
      ]
     },
     "execution_count": 51,
     "metadata": {},
     "output_type": "execute_result"
    }
   ],
   "source": [
    "from sklearn.linear_model import LogisticRegression\n",
    "lr_classifier = LogisticRegression(random_state=0)\n",
    "lr_classifier.fit(X_train, y_train)"
   ]
  },
  {
   "cell_type": "code",
   "execution_count": 52,
   "metadata": {},
   "outputs": [],
   "source": [
    "lr_y_pred = lr_classifier.predict(X_test)"
   ]
  },
  {
   "cell_type": "code",
   "execution_count": 62,
   "metadata": {},
   "outputs": [
    {
     "data": {
      "text/plain": [
       "LogisticRegression(random_state=0)"
      ]
     },
     "execution_count": 62,
     "metadata": {},
     "output_type": "execute_result"
    }
   ],
   "source": [
    "classifier = LogisticRegression(random_state=0)\n",
    "classifier.fit(X_train, y_train)"
   ]
  },
  {
   "cell_type": "code",
   "execution_count": 63,
   "metadata": {},
   "outputs": [
    {
     "name": "stdout",
     "output_type": "stream",
     "text": [
      "---- Scores ----\n",
      "Accuracy score is: 93.68%\n",
      "Precision score is: 0.89\n",
      "Recall score is: 0.97\n"
     ]
    }
   ],
   "source": [
    "# Accuracy, Precision and Recall\n",
    "from sklearn.metrics import accuracy_score, precision_score, recall_score\n",
    "score1 = accuracy_score(y_test, lr_y_pred)\n",
    "score2 = precision_score(y_test, lr_y_pred)\n",
    "score3 = recall_score(y_test, lr_y_pred)\n",
    "print(\"---- Scores ----\")\n",
    "print(\"Accuracy score is: {}%\".format(round(score1*100,2)))\n",
    "print(\"Precision score is: {}\".format(round(score2,2)))\n",
    "print(\"Recall score is: {}\".format(round(score3,2)))"
   ]
  },
  {
   "cell_type": "code",
   "execution_count": 54,
   "metadata": {},
   "outputs": [],
   "source": [
    "def fake_news(sample_news):\n",
    "  sample_news = re.sub(pattern='[^a-zA-Z]',repl=' ', string=sample_news)\n",
    "  sample_news = sample_news.lower()\n",
    "  sample_news_words = sample_news.split()\n",
    "  sample_news_words = [word for word in sample_news_words if not word in set(stopwords.words('english'))]\n",
    "  lm = WordNetLemmatizer()\n",
    "  final_news = [lm.lemmatize(word) for word in sample_news_words]\n",
    "  final_news = ' '.join(final_news)\n",
    "\n",
    "  temp = cv.transform([final_news]).toarray()\n",
    "  return classifier.predict(temp)"
   ]
  },
  {
   "cell_type": "code",
   "execution_count": 55,
   "metadata": {},
   "outputs": [],
   "source": [
    "df_test = pd.read_csv('kaggle_fake_test.csv')"
   ]
  },
  {
   "cell_type": "code",
   "execution_count": 56,
   "metadata": {},
   "outputs": [
    {
     "data": {
      "text/plain": [
       "Index(['id', 'title', 'author', 'text'], dtype='object')"
      ]
     },
     "execution_count": 56,
     "metadata": {},
     "output_type": "execute_result"
    }
   ],
   "source": [
    "df_test.columns"
   ]
  },
  {
   "cell_type": "code",
   "execution_count": 64,
   "metadata": {},
   "outputs": [
    {
     "data": {
      "text/html": [
       "<div>\n",
       "<style scoped>\n",
       "    .dataframe tbody tr th:only-of-type {\n",
       "        vertical-align: middle;\n",
       "    }\n",
       "\n",
       "    .dataframe tbody tr th {\n",
       "        vertical-align: top;\n",
       "    }\n",
       "\n",
       "    .dataframe thead th {\n",
       "        text-align: right;\n",
       "    }\n",
       "</style>\n",
       "<table border=\"1\" class=\"dataframe\">\n",
       "  <thead>\n",
       "    <tr style=\"text-align: right;\">\n",
       "      <th></th>\n",
       "      <th>id</th>\n",
       "      <th>title</th>\n",
       "      <th>author</th>\n",
       "      <th>text</th>\n",
       "    </tr>\n",
       "  </thead>\n",
       "  <tbody>\n",
       "    <tr>\n",
       "      <th>0</th>\n",
       "      <td>20800</td>\n",
       "      <td>Specter of Trump Loosens Tongues, if Not Purse...</td>\n",
       "      <td>David Streitfeld</td>\n",
       "      <td>PALO ALTO, Calif.  —   After years of scorning...</td>\n",
       "    </tr>\n",
       "    <tr>\n",
       "      <th>1</th>\n",
       "      <td>20801</td>\n",
       "      <td>Russian warships ready to strike terrorists ne...</td>\n",
       "      <td>NaN</td>\n",
       "      <td>Russian warships ready to strike terrorists ne...</td>\n",
       "    </tr>\n",
       "    <tr>\n",
       "      <th>2</th>\n",
       "      <td>20802</td>\n",
       "      <td>#NoDAPL: Native American Leaders Vow to Stay A...</td>\n",
       "      <td>Common Dreams</td>\n",
       "      <td>Videos #NoDAPL: Native American Leaders Vow to...</td>\n",
       "    </tr>\n",
       "    <tr>\n",
       "      <th>3</th>\n",
       "      <td>20803</td>\n",
       "      <td>Tim Tebow Will Attempt Another Comeback, This ...</td>\n",
       "      <td>Daniel Victor</td>\n",
       "      <td>If at first you don’t succeed, try a different...</td>\n",
       "    </tr>\n",
       "    <tr>\n",
       "      <th>4</th>\n",
       "      <td>20804</td>\n",
       "      <td>Keiser Report: Meme Wars (E995)</td>\n",
       "      <td>Truth Broadcast Network</td>\n",
       "      <td>42 mins ago 1 Views 0 Comments 0 Likes 'For th...</td>\n",
       "    </tr>\n",
       "  </tbody>\n",
       "</table>\n",
       "</div>"
      ],
      "text/plain": [
       "      id                                              title  \\\n",
       "0  20800  Specter of Trump Loosens Tongues, if Not Purse...   \n",
       "1  20801  Russian warships ready to strike terrorists ne...   \n",
       "2  20802  #NoDAPL: Native American Leaders Vow to Stay A...   \n",
       "3  20803  Tim Tebow Will Attempt Another Comeback, This ...   \n",
       "4  20804                    Keiser Report: Meme Wars (E995)   \n",
       "\n",
       "                    author                                               text  \n",
       "0         David Streitfeld  PALO ALTO, Calif.  —   After years of scorning...  \n",
       "1                      NaN  Russian warships ready to strike terrorists ne...  \n",
       "2            Common Dreams  Videos #NoDAPL: Native American Leaders Vow to...  \n",
       "3            Daniel Victor  If at first you don’t succeed, try a different...  \n",
       "4  Truth Broadcast Network  42 mins ago 1 Views 0 Comments 0 Likes 'For th...  "
      ]
     },
     "execution_count": 64,
     "metadata": {},
     "output_type": "execute_result"
    }
   ],
   "source": [
    "df_test.head()"
   ]
  },
  {
   "cell_type": "code",
   "execution_count": 57,
   "metadata": {},
   "outputs": [],
   "source": [
    "news_title = df_test['title']"
   ]
  },
  {
   "cell_type": "code",
   "execution_count": 58,
   "metadata": {},
   "outputs": [
    {
     "data": {
      "text/plain": [
       "(5200,)"
      ]
     },
     "execution_count": 58,
     "metadata": {},
     "output_type": "execute_result"
    }
   ],
   "source": [
    "news_title.shape"
   ]
  },
  {
   "cell_type": "code",
   "execution_count": 65,
   "metadata": {},
   "outputs": [
    {
     "data": {
      "text/plain": [
       "0    Specter of Trump Loosens Tongues, if Not Purse...\n",
       "1    Russian warships ready to strike terrorists ne...\n",
       "2    #NoDAPL: Native American Leaders Vow to Stay A...\n",
       "3    Tim Tebow Will Attempt Another Comeback, This ...\n",
       "4                      Keiser Report: Meme Wars (E995)\n",
       "Name: title, dtype: object"
      ]
     },
     "execution_count": 65,
     "metadata": {},
     "output_type": "execute_result"
    }
   ],
   "source": [
    "news_title.head()"
   ]
  },
  {
   "cell_type": "code",
   "execution_count": 75,
   "metadata": {},
   "outputs": [],
   "source": [
    "sample_news = news_title[70]"
   ]
  },
  {
   "cell_type": "code",
   "execution_count": 77,
   "metadata": {},
   "outputs": [
    {
     "name": "stdout",
     "output_type": "stream",
     "text": [
      "News: TERROR THREAT WARNING MONDAY | RedFlag News\n",
      "FAKE news!\n"
     ]
    }
   ],
   "source": [
    "print('News: {}'.format(sample_news))\n",
    "if fake_news(sample_news):\n",
    "  print('FAKE news!')\n",
    "else:\n",
    "  print('REAL news.')"
   ]
  },
  {
   "cell_type": "code",
   "execution_count": 84,
   "metadata": {},
   "outputs": [],
   "source": [
    "sample_news = news_title[200]"
   ]
  },
  {
   "cell_type": "code",
   "execution_count": 85,
   "metadata": {},
   "outputs": [
    {
     "name": "stdout",
     "output_type": "stream",
     "text": [
      "News: Music World Bands Together Against YouTube, Seeking Change to Law - The New York Times\n",
      "REAL news.\n"
     ]
    }
   ],
   "source": [
    "print('News: {}'.format(sample_news))\n",
    "if fake_news(sample_news):\n",
    "  print('FAKE news!')\n",
    "else:\n",
    "  print('REAL news.')"
   ]
  },
  {
   "cell_type": "code",
   "execution_count": null,
   "metadata": {},
   "outputs": [],
   "source": []
  }
 ],
 "metadata": {
  "kernelspec": {
   "display_name": "Python 3",
   "language": "python",
   "name": "python3"
  },
  "language_info": {
   "codemirror_mode": {
    "name": "ipython",
    "version": 3
   },
   "file_extension": ".py",
   "mimetype": "text/x-python",
   "name": "python",
   "nbconvert_exporter": "python",
   "pygments_lexer": "ipython3",
   "version": "3.8.5"
  }
 },
 "nbformat": 4,
 "nbformat_minor": 4
}
